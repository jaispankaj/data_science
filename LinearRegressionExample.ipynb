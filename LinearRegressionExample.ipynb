{
  "nbformat": 4,
  "nbformat_minor": 0,
  "metadata": {
    "colab": {
      "name": "LinearRegressionExample.ipynb",
      "provenance": [],
      "authorship_tag": "ABX9TyNrbJRfc1P2/SxuF32Fmb4u",
      "include_colab_link": true
    },
    "kernelspec": {
      "name": "python3",
      "display_name": "Python 3"
    }
  },
  "cells": [
    {
      "cell_type": "markdown",
      "metadata": {
        "id": "view-in-github",
        "colab_type": "text"
      },
      "source": [
        "<a href=\"https://colab.research.google.com/github/jaispankaj/data_science/blob/master/LinearRegressionExample.ipynb\" target=\"_parent\"><img src=\"https://colab.research.google.com/assets/colab-badge.svg\" alt=\"Open In Colab\"/></a>"
      ]
    },
    {
      "cell_type": "code",
      "metadata": {
        "id": "YxgLccXxqL6H",
        "colab_type": "code",
        "outputId": "9ee57da6-2590-46a4-984c-432665e86428",
        "colab": {
          "base_uri": "https://localhost:8080/",
          "height": 538
        }
      },
      "source": [
        "import numpy as np\n",
        "\n",
        "X=np.random.randint(1,20,size=(10,10))\n",
        "Y=np.random.randint(1,10,size=(10,1))\n",
        "\n",
        "X=np.matrix(X)\n",
        "Y=np.matrix(Y)\n",
        "#by grdient descent W=(((X.T)X)^-1)(X.T)Y\n",
        "W = np.matmul(np.linalg.inv(np.matmul(X.T,X)),np.matmul(X.T,Y))\n",
        "\n",
        "print(X)\n",
        "print(Y)\n",
        "print(W)"
      ],
      "execution_count": 0,
      "outputs": [
        {
          "output_type": "stream",
          "text": [
            "[[15  9  8 11 14 13 15 18  1 17]\n",
            " [16  5 19 12  1 10  1 15  4 10]\n",
            " [ 4 15 17 17  5 18  1  2 16  6]\n",
            " [15  5  2 13  3 15 10  6 17  9]\n",
            " [12  2 11 10 16 18 13 10  1  6]\n",
            " [10 19 10  1  3  1 17  9 16 16]\n",
            " [ 5 16  7  5  8 18 11 12  5  1]\n",
            " [12  9  9 10 11 17  6 19  6  3]\n",
            " [14 14 15 11 14 11  4 15 19  7]\n",
            " [ 5 15 18  2 16 10  7  1  5  4]]\n",
            "[[9]\n",
            " [8]\n",
            " [4]\n",
            " [6]\n",
            " [1]\n",
            " [1]\n",
            " [3]\n",
            " [8]\n",
            " [9]\n",
            " [4]]\n",
            "[[ 0.34803877]\n",
            " [ 0.06956951]\n",
            " [-0.41911776]\n",
            " [-1.35618833]\n",
            " [ 0.24330833]\n",
            " [ 1.17186612]\n",
            " [-1.50217748]\n",
            " [ 0.09939675]\n",
            " [ 0.15555781]\n",
            " [ 1.37480549]]\n"
          ],
          "name": "stdout"
        }
      ]
    }
  ]
}