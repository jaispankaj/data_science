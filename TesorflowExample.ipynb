{
  "nbformat": 4,
  "nbformat_minor": 0,
  "metadata": {
    "colab": {
      "name": "TesorflowExample.ipynb",
      "provenance": [],
      "collapsed_sections": [],
      "authorship_tag": "ABX9TyPP2P/2/uzFf7f8kaI5ks3u",
      "include_colab_link": true
    },
    "kernelspec": {
      "name": "python3",
      "display_name": "Python 3"
    }
  },
  "cells": [
    {
      "cell_type": "markdown",
      "metadata": {
        "id": "view-in-github",
        "colab_type": "text"
      },
      "source": [
        "<a href=\"https://colab.research.google.com/github/jaispankaj/data_science/blob/master/TesorflowExample.ipynb\" target=\"_parent\"><img src=\"https://colab.research.google.com/assets/colab-badge.svg\" alt=\"Open In Colab\"/></a>"
      ]
    },
    {
      "cell_type": "code",
      "metadata": {
        "id": "lY624VWslQJZ",
        "colab_type": "code",
        "colab": {}
      },
      "source": [
        "import tensorflow as tf\n",
        "import numpy as np"
      ],
      "execution_count": 0,
      "outputs": []
    },
    {
      "cell_type": "code",
      "metadata": {
        "id": "W3SbypMilmuD",
        "colab_type": "code",
        "outputId": "e51183b7-d523-4319-e3fc-d7a0c19b1141",
        "colab": {
          "base_uri": "https://localhost:8080/",
          "height": 292
        }
      },
      "source": [
        "a=tf.Variable(0.0,tf.float32)\n",
        "b=tf.Variable(1.0,tf.float32)\n",
        "c=tf.Variable(1.0,tf.float32)\n",
        "assign1=tf.assign(c,a+b)\n",
        "assign2=tf.assign(a,b)\n",
        "assign3=tf.assign(b,c)\n",
        "with tf.Session() as sess:\n",
        "  sess.run(tf.initialize_all_variables())\n",
        "  print(sess.run(a))\n",
        "  print(sess.run(b))\n",
        "  for i in range(10):\n",
        "    sess.run(assign1)\n",
        "    sess.run(assign2)\n",
        "    sess.run(assign3)\n",
        "    print(sess.run(c))"
      ],
      "execution_count": 0,
      "outputs": [
        {
          "output_type": "stream",
          "text": [
            "WARNING:tensorflow:From /usr/local/lib/python3.6/dist-packages/tensorflow_core/python/util/tf_should_use.py:198: initialize_all_variables (from tensorflow.python.ops.variables) is deprecated and will be removed after 2017-03-02.\n",
            "Instructions for updating:\n",
            "Use `tf.global_variables_initializer` instead.\n",
            "0.0\n",
            "1.0\n",
            "1.0\n",
            "2.0\n",
            "3.0\n",
            "5.0\n",
            "8.0\n",
            "13.0\n",
            "21.0\n",
            "34.0\n",
            "55.0\n",
            "89.0\n"
          ],
          "name": "stdout"
        }
      ]
    },
    {
      "cell_type": "code",
      "metadata": {
        "id": "HJUG-ZkFyvIS",
        "colab_type": "code",
        "colab": {}
      },
      "source": [
        "n_samples=1000\n",
        "n_dims=100\n",
        "X_data=np.random.randn(n_samples,n_dims)\n",
        "TW=np.random.randn(n_dims,1)\n",
        "Y_data=np.matmul(X_data,TW)+np.random.randn(n_samples,1)"
      ],
      "execution_count": 0,
      "outputs": []
    },
    {
      "cell_type": "code",
      "metadata": {
        "id": "zlfT9Ml4zdX0",
        "colab_type": "code",
        "colab": {}
      },
      "source": [
        "B=100\n",
        "X=tf.placeholder(tf.float32,shape=(B,n_dims))\n",
        "Y=tf.placeholder(tf.float32,shape=(B,1))\n",
        "W=tf.Variable(np.random.randn(n_dims,1),dtype=tf.float32)"
      ],
      "execution_count": 0,
      "outputs": []
    },
    {
      "cell_type": "code",
      "metadata": {
        "id": "eJz7obKi0DEz",
        "colab_type": "code",
        "outputId": "5dd0e64e-5e76-4657-d925-360005d528cf",
        "colab": {
          "base_uri": "https://localhost:8080/",
          "height": 68
        }
      },
      "source": [
        "Y_hat=tf.matmul(X,W)\n",
        "Error=tf.reduce_sum((Y_hat-Y)**2/n_samples)\n",
        "opt=tf.train.AdamOptimizer()\n",
        "opt_operation=opt.minimize(Error)"
      ],
      "execution_count": 0,
      "outputs": [
        {
          "output_type": "stream",
          "text": [
            "WARNING:tensorflow:From /usr/local/lib/python3.6/dist-packages/tensorflow_core/python/ops/math_grad.py:1375: where (from tensorflow.python.ops.array_ops) is deprecated and will be removed in a future version.\n",
            "Instructions for updating:\n",
            "Use tf.where in 2.0, which has the same broadcast rule as np.where\n"
          ],
          "name": "stdout"
        }
      ]
    },
    {
      "cell_type": "code",
      "metadata": {
        "id": "WwtWSEJq08Gv",
        "colab_type": "code",
        "outputId": "7c700a7a-a5ab-4446-d486-38a55116dbdf",
        "colab": {
          "base_uri": "https://localhost:8080/",
          "height": 187
        }
      },
      "source": [
        "with tf.Session() as sess:\n",
        "  sess.run(tf.initialize_all_variables())\n",
        "  for i in range(10):\n",
        "    indices=np.random.choice(n_samples,B)\n",
        "    X_batch=X_data[indices]\n",
        "    Y_batch=Y_data[indices]\n",
        "    e,error=sess.run([opt_operation,Error],feed_dict={X:X_batch,Y:Y_batch})\n",
        "    print(error)"
      ],
      "execution_count": 0,
      "outputs": [
        {
          "output_type": "stream",
          "text": [
            "19.876831\n",
            "17.249851\n",
            "19.967695\n",
            "19.900846\n",
            "17.619698\n",
            "25.94729\n",
            "20.757338\n",
            "18.363409\n",
            "25.57778\n",
            "23.39666\n"
          ],
          "name": "stdout"
        }
      ]
    },
    {
      "cell_type": "code",
      "metadata": {
        "id": "KUxQyp_3XPtv",
        "colab_type": "code",
        "outputId": "3e173ec4-8a04-4e95-f6d0-8340ffdea537",
        "colab": {
          "base_uri": "https://localhost:8080/",
          "height": 340
        }
      },
      "source": [
        "import numpy as np\n",
        "from sklearn.cluster import KMeans\n",
        "A=np.array([[0,1,0,1],[1,0,1,1],[0,1,0,0],[1,1,0,0]])\n",
        "D=np.diag(A.sum(axis=1))\n",
        "print(A)\n",
        "print(D)\n",
        "L=D-A \n",
        "vals,vecs=np.linalg.eig(L)\n",
        "print(vals)\n",
        "print(vecs)\n",
        "vecs=vecs[:,np.argsort(vals)]\n",
        "vals=vals[np.argsort(vals)]\n",
        "print(vals)\n",
        "print(vecs)\n",
        "kmeans = KMeans(n_clusters=2)\n",
        "kmeans.fit(vecs[:,1:2])\n",
        "colors = kmeans.labels_\n",
        "print(\"Clusters:\", colors)\n"
      ],
      "execution_count": 0,
      "outputs": [
        {
          "output_type": "stream",
          "text": [
            "[[0 1 0 1]\n",
            " [1 0 1 1]\n",
            " [0 1 0 0]\n",
            " [1 1 0 0]]\n",
            "[[2 0 0 0]\n",
            " [0 3 0 0]\n",
            " [0 0 1 0]\n",
            " [0 0 0 2]]\n",
            "[ 4.00000000e+00  3.00000000e+00 -7.16704478e-17  1.00000000e+00]\n",
            "[[-2.88675135e-01  7.07106781e-01  5.00000000e-01  4.08248290e-01]\n",
            " [ 8.66025404e-01  1.29398811e-15  5.00000000e-01  1.08555382e-16]\n",
            " [-2.88675135e-01 -2.32414411e-16  5.00000000e-01 -8.16496581e-01]\n",
            " [-2.88675135e-01 -7.07106781e-01  5.00000000e-01  4.08248290e-01]]\n",
            "[-7.16704478e-17  1.00000000e+00  3.00000000e+00  4.00000000e+00]\n",
            "[[ 5.00000000e-01  4.08248290e-01  7.07106781e-01 -2.88675135e-01]\n",
            " [ 5.00000000e-01  1.08555382e-16  1.29398811e-15  8.66025404e-01]\n",
            " [ 5.00000000e-01 -8.16496581e-01 -2.32414411e-16 -2.88675135e-01]\n",
            " [ 5.00000000e-01  4.08248290e-01 -7.07106781e-01 -2.88675135e-01]]\n",
            "Clusters: [1 1 0 1]\n"
          ],
          "name": "stdout"
        }
      ]
    },
    {
      "cell_type": "code",
      "metadata": {
        "id": "ZIGGivyK5cSe",
        "colab_type": "code",
        "outputId": "601c2b32-eac1-45f9-a5e0-1667316ef66e",
        "colab": {
          "base_uri": "https://localhost:8080/"
        }
      },
      "source": [
        "import spacy\n",
        "\n",
        "nlp = spacy.load('de_core_news_sm', disable=['parser', 'tagger', 'ner'])\n",
        "tokenized = nlp.tokenizer.pipe(instructions.values)\n",
        "tokenized = [t.text for doc in tokenized for t in doc]"
      ],
      "execution_count": 0,
      "outputs": [
        {
          "output_type": "error",
          "ename": "OSError",
          "evalue": "ignored",
          "traceback": [
            "\u001b[0;31m---------------------------------------------------------------------------\u001b[0m",
            "\u001b[0;31mOSError\u001b[0m                                   Traceback (most recent call last)",
            "\u001b[0;32m<ipython-input-2-599a437eb452>\u001b[0m in \u001b[0;36m<module>\u001b[0;34m()\u001b[0m\n\u001b[1;32m      1\u001b[0m \u001b[0;32mimport\u001b[0m \u001b[0mspacy\u001b[0m\u001b[0;34m\u001b[0m\u001b[0;34m\u001b[0m\u001b[0m\n\u001b[1;32m      2\u001b[0m \u001b[0;34m\u001b[0m\u001b[0m\n\u001b[0;32m----> 3\u001b[0;31m \u001b[0mnlp\u001b[0m \u001b[0;34m=\u001b[0m \u001b[0mspacy\u001b[0m\u001b[0;34m.\u001b[0m\u001b[0mload\u001b[0m\u001b[0;34m(\u001b[0m\u001b[0;34m'de_core_news_sm'\u001b[0m\u001b[0;34m,\u001b[0m \u001b[0mdisable\u001b[0m\u001b[0;34m=\u001b[0m\u001b[0;34m[\u001b[0m\u001b[0;34m'parser'\u001b[0m\u001b[0;34m,\u001b[0m \u001b[0;34m'tagger'\u001b[0m\u001b[0;34m,\u001b[0m \u001b[0;34m'ner'\u001b[0m\u001b[0;34m]\u001b[0m\u001b[0;34m)\u001b[0m\u001b[0;34m\u001b[0m\u001b[0;34m\u001b[0m\u001b[0m\n\u001b[0m\u001b[1;32m      4\u001b[0m \u001b[0mtokenized\u001b[0m \u001b[0;34m=\u001b[0m \u001b[0mnlp\u001b[0m\u001b[0;34m.\u001b[0m\u001b[0mtokenizer\u001b[0m\u001b[0;34m.\u001b[0m\u001b[0mpipe\u001b[0m\u001b[0;34m(\u001b[0m\u001b[0minstructions\u001b[0m\u001b[0;34m.\u001b[0m\u001b[0mvalues\u001b[0m\u001b[0;34m)\u001b[0m\u001b[0;34m\u001b[0m\u001b[0;34m\u001b[0m\u001b[0m\n\u001b[1;32m      5\u001b[0m \u001b[0mtokenized\u001b[0m \u001b[0;34m=\u001b[0m \u001b[0;34m[\u001b[0m\u001b[0mt\u001b[0m\u001b[0;34m.\u001b[0m\u001b[0mtext\u001b[0m \u001b[0;32mfor\u001b[0m \u001b[0mdoc\u001b[0m \u001b[0;32min\u001b[0m \u001b[0mtokenized\u001b[0m \u001b[0;32mfor\u001b[0m \u001b[0mt\u001b[0m \u001b[0;32min\u001b[0m \u001b[0mdoc\u001b[0m\u001b[0;34m]\u001b[0m\u001b[0;34m\u001b[0m\u001b[0;34m\u001b[0m\u001b[0m\n",
            "\u001b[0;32m/usr/local/lib/python3.6/dist-packages/spacy/__init__.py\u001b[0m in \u001b[0;36mload\u001b[0;34m(name, **overrides)\u001b[0m\n\u001b[1;32m     25\u001b[0m     \u001b[0;32mif\u001b[0m \u001b[0mdepr_path\u001b[0m \u001b[0;32mnot\u001b[0m \u001b[0;32min\u001b[0m \u001b[0;34m(\u001b[0m\u001b[0;32mTrue\u001b[0m\u001b[0;34m,\u001b[0m \u001b[0;32mFalse\u001b[0m\u001b[0;34m,\u001b[0m \u001b[0;32mNone\u001b[0m\u001b[0;34m)\u001b[0m\u001b[0;34m:\u001b[0m\u001b[0;34m\u001b[0m\u001b[0;34m\u001b[0m\u001b[0m\n\u001b[1;32m     26\u001b[0m         \u001b[0mdeprecation_warning\u001b[0m\u001b[0;34m(\u001b[0m\u001b[0mWarnings\u001b[0m\u001b[0;34m.\u001b[0m\u001b[0mW001\u001b[0m\u001b[0;34m.\u001b[0m\u001b[0mformat\u001b[0m\u001b[0;34m(\u001b[0m\u001b[0mpath\u001b[0m\u001b[0;34m=\u001b[0m\u001b[0mdepr_path\u001b[0m\u001b[0;34m)\u001b[0m\u001b[0;34m)\u001b[0m\u001b[0;34m\u001b[0m\u001b[0;34m\u001b[0m\u001b[0m\n\u001b[0;32m---> 27\u001b[0;31m     \u001b[0;32mreturn\u001b[0m \u001b[0mutil\u001b[0m\u001b[0;34m.\u001b[0m\u001b[0mload_model\u001b[0m\u001b[0;34m(\u001b[0m\u001b[0mname\u001b[0m\u001b[0;34m,\u001b[0m \u001b[0;34m**\u001b[0m\u001b[0moverrides\u001b[0m\u001b[0;34m)\u001b[0m\u001b[0;34m\u001b[0m\u001b[0;34m\u001b[0m\u001b[0m\n\u001b[0m\u001b[1;32m     28\u001b[0m \u001b[0;34m\u001b[0m\u001b[0m\n\u001b[1;32m     29\u001b[0m \u001b[0;34m\u001b[0m\u001b[0m\n",
            "\u001b[0;32m/usr/local/lib/python3.6/dist-packages/spacy/util.py\u001b[0m in \u001b[0;36mload_model\u001b[0;34m(name, **overrides)\u001b[0m\n\u001b[1;32m    137\u001b[0m     \u001b[0;32melif\u001b[0m \u001b[0mhasattr\u001b[0m\u001b[0;34m(\u001b[0m\u001b[0mname\u001b[0m\u001b[0;34m,\u001b[0m \u001b[0;34m\"exists\"\u001b[0m\u001b[0;34m)\u001b[0m\u001b[0;34m:\u001b[0m  \u001b[0;31m# Path or Path-like to model data\u001b[0m\u001b[0;34m\u001b[0m\u001b[0;34m\u001b[0m\u001b[0m\n\u001b[1;32m    138\u001b[0m         \u001b[0;32mreturn\u001b[0m \u001b[0mload_model_from_path\u001b[0m\u001b[0;34m(\u001b[0m\u001b[0mname\u001b[0m\u001b[0;34m,\u001b[0m \u001b[0;34m**\u001b[0m\u001b[0moverrides\u001b[0m\u001b[0;34m)\u001b[0m\u001b[0;34m\u001b[0m\u001b[0;34m\u001b[0m\u001b[0m\n\u001b[0;32m--> 139\u001b[0;31m     \u001b[0;32mraise\u001b[0m \u001b[0mIOError\u001b[0m\u001b[0;34m(\u001b[0m\u001b[0mErrors\u001b[0m\u001b[0;34m.\u001b[0m\u001b[0mE050\u001b[0m\u001b[0;34m.\u001b[0m\u001b[0mformat\u001b[0m\u001b[0;34m(\u001b[0m\u001b[0mname\u001b[0m\u001b[0;34m=\u001b[0m\u001b[0mname\u001b[0m\u001b[0;34m)\u001b[0m\u001b[0;34m)\u001b[0m\u001b[0;34m\u001b[0m\u001b[0;34m\u001b[0m\u001b[0m\n\u001b[0m\u001b[1;32m    140\u001b[0m \u001b[0;34m\u001b[0m\u001b[0m\n\u001b[1;32m    141\u001b[0m \u001b[0;34m\u001b[0m\u001b[0m\n",
            "\u001b[0;31mOSError\u001b[0m: [E050] Can't find model 'de_core_news_sm'. It doesn't seem to be a shortcut link, a Python package or a valid path to a data directory."
          ]
        }
      ]
    }
  ]
}